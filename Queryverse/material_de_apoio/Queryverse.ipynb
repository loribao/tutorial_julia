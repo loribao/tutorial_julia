{
 "cells": [
  {
   "cell_type": "markdown",
   "metadata": {},
   "source": [
    "# Queryverse\n",
    "\n",
    "<div align=\"center\">   \n",
    "    <img src=\"imgs/meme1.jpeg\",width=100%,height=60>\n",
    "</div>"
   ]
  },
  {
   "cell_type": "markdown",
   "metadata": {},
   "source": [
    "# Queryverse\n",
    "\n",
    "- Queryverse é um framework com foco em ciência de dados\n",
    "- O Queryverse reúne uma serie de pacotes Julia, funcionando como uma interface de manipulação para:\n",
    "    - IO\n",
    "    - Table types\n",
    "    - Visualization/UI\n",
    "    - Analysis   \n",
    "\n",
    "\n",
    "<div >   \n",
    "    <img src=\"imgs/queryverse.PNG\">\n",
    "</div>"
   ]
  },
  {
   "cell_type": "code",
   "execution_count": 4,
   "metadata": {},
   "outputs": [],
   "source": [
    "using Queryverse"
   ]
  },
  {
   "cell_type": "markdown",
   "metadata": {},
   "source": [
    "# Queryverse: I/O\n",
    "\n",
    "- O Queryverse da suporte para diversos tipos de arquivos: CSV , Feather , Excel , SPSS , Stata , SAS e Parquet e etc…\n",
    "- Funções: load(), save()."
   ]
  },
  {
   "cell_type": "markdown",
   "metadata": {},
   "source": [
    "# Queryverse: Tables\n",
    "\n",
    "- Apesar dos formatos básicos de Julia possuírem muito poder representacional e performar muito bem, eles não são produtivos e intuitivo para gerar insights. \n",
    "- Para lidar com a manipulação de forma produtividades e de fácil visualização temos as representações de  dados tabulares ou simplesmente “Tables”.\n",
    "- O Queryverse integra muito bem com os pacotes Tables listados anteriormente e como destaques na comunidade temos:  \n",
    "    - DataTable.jl\n",
    "    - DataFrame.jl\n",
    "    - JuliaDB.jl\n",
    "        - Apesar de implementarem a mesma interface, elas tem objetivos ligeiramente diferentes."
   ]
  },
  {
   "cell_type": "markdown",
   "metadata": {},
   "source": [
    "# Queryverse: Tables\n",
    "\n",
    "- Query.jl é um pacote de manipulação de coleções e tabelas iteráveis. Implementa as especificações da sintaxe LINQ da plataforma .NET com dois estilos de escrita em Julia.\n",
    "- “LINQ Style Query Commands” é o estilo de escrita baseado na sintaxe da linguagem SQL.\n",
    "- “Standalone query operators”  é o segundo estilo de escrita, porém utiliza o esquema de encadeamento de funções com o operador pipe  ( |> ).\n",
    "- Repositório: \t\n",
    "    github.com/queryverse/Query.jl\n",
    "- Algumas Fontes de dados suportadas são:\n",
    " - DataFrames\n",
    " - JuliaDB\n",
    " - DataStreams (incluindo CSV, Feather, SQLite, ODBC)\n",
    " - DataTables\n",
    " - IndexedTables\n",
    " - TimeSeries\n",
    " - TypedTables\n",
    " - DifferentialEquations (qualquer DESolution)\n",
    " - Matrizes qualquer tipo contanto que seja iteráveis "
   ]
  },
  {
   "cell_type": "markdown",
   "metadata": {},
   "source": [
    "## Standalone query operators\n",
    "- @map\n",
    "- @filter\n",
    "- @groupby\n",
    "- @orderby, @orderby_descending, @thenby e  @thenby_descending\n",
    "- @groupjoin \n",
    "- @join \n",
    "- @mapmany\n",
    "- @take \n",
    "- @drop \n",
    "- @unique \n",
    "- @select \n",
    "- @rename\n",
    "- @mutate"
   ]
  },
  {
   "cell_type": "markdown",
   "metadata": {},
   "source": [
    "## LINQ Style Query Commands\n",
    "- @from \n",
    "- @orderby \n",
    "- @select \n",
    "- @collect\n",
    "- @where\n",
    "- @join\n",
    "- @left_outer_join\n",
    "- @group\n",
    "- @let"
   ]
  },
  {
   "cell_type": "code",
   "execution_count": null,
   "metadata": {},
   "outputs": [],
   "source": []
  }
 ],
 "metadata": {
  "kernelspec": {
   "display_name": "Julia 1.3.1",
   "language": "julia",
   "name": "julia-1.3"
  },
  "language_info": {
   "file_extension": ".jl",
   "mimetype": "application/julia",
   "name": "julia",
   "version": "1.3.1"
  }
 },
 "nbformat": 4,
 "nbformat_minor": 4
}
